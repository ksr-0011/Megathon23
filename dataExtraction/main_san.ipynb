{
 "cells": [
  {
   "cell_type": "code",
   "execution_count": 40,
   "metadata": {},
   "outputs": [],
   "source": [
    "import json\n",
    "trainFileName = \"train_webmd_squad_v2_full.json\"\n",
    "valFileName = \"val_webmd_squad_v2_full.json\"\n",
    "folderPath = \"./Qualcomm_Megathon'23/Megathon'23/mashqa_data/\"\n",
    "with open(folderPath+trainFileName, 'r') as json_file:\n",
    "    trainDatabase = json.load(json_file)"
   ]
  },
  {
   "cell_type": "code",
   "execution_count": 41,
   "metadata": {},
   "outputs": [
    {
     "name": "stdout",
     "output_type": "stream",
     "text": [
      "4532\n"
     ]
    }
   ],
   "source": [
    "print(len(trainDatabase['data']))"
   ]
  },
  {
   "cell_type": "code",
   "execution_count": 42,
   "metadata": {},
   "outputs": [],
   "source": [
    "outputTextLines = []"
   ]
  },
  {
   "cell_type": "code",
   "execution_count": 43,
   "metadata": {},
   "outputs": [],
   "source": [
    "for i in trainDatabase['data']:\n",
    "    title = i['title']\n",
    "    dataPoint = i['paragraphs'][0]\n",
    "    # dict_keys(['qas', 'sent_list', 'context', 'sent_starts'])\n",
    "    qaList = dataPoint['qas']\n",
    "    context = dataPoint['context']\n",
    "    # print(title)\n",
    "    for qNo in range(len(qaList)):\n",
    "        # print(qaList[qNo].keys())\n",
    "\n",
    "        outputTextLines.append(qaList[qNo]['question'])\n",
    "        # print(qaList[qNo]['question'])\n",
    "\n",
    "        answersPerQ = qaList[qNo]['answers']\n",
    "        for aNo in range(len(answersPerQ)):\n",
    "            # print(answersPerQ[aNo].keys())\n",
    "\n",
    "            outputTextLines.append(answersPerQ[aNo]['text'])\n",
    "            # print(answersPerQ[aNo]['text'])\n",
    "        \n",
    "        outputTextLines.append(\"\")\n",
    "        # print(\"\")"
   ]
  },
  {
   "cell_type": "code",
   "execution_count": 44,
   "metadata": {},
   "outputs": [],
   "source": [
    "outputText = '\\n'.join(outputTextLines)\n",
    "# print(outputText)"
   ]
  },
  {
   "cell_type": "code",
   "execution_count": 4,
   "metadata": {},
   "outputs": [
    {
     "name": "stdout",
     "output_type": "stream",
     "text": [
      "4532\n"
     ]
    }
   ],
   "source": [
    "import json\n",
    "# from fpdf import FPDF\n",
    "\n",
    "# class PDF(FPDF):\n",
    "#     def header(self):\n",
    "#         self.set_font('Arial', 'B', 12)\n",
    "#         self.cell(0, 10, 'My Text to PDF', 0, 1, 'C')\n",
    "\n",
    "#     def chapter_title(self, title):\n",
    "#         self.set_font('Arial', 'B', 12)\n",
    "#         self.cell(0, 10, title, 0, 1, 'L')\n",
    "#         self.ln(10)\n",
    "\n",
    "#     def chapter_body(self, body):\n",
    "#         self.set_font('Arial', '', 12)\n",
    "#         self.multi_cell(0, 10, body)\n",
    "#         self.ln()\n",
    "\n",
    "trainFileName = \"train_webmd_squad_v2_full.json\"\n",
    "valFileName = \"val_webmd_squad_v2_full.json\"\n",
    "folderPath = \"./Qualcomm_Megathon'23/Megathon'23/mashqa_data/\"\n",
    "with open(folderPath+trainFileName, 'r') as json_file:\n",
    "    trainDatabase = json.load(json_file)\n",
    "\n",
    "print(len(trainDatabase['data']))\n",
    "\n",
    "outputTextLines = []\n",
    "\n",
    "for i in trainDatabase['data']:\n",
    "    title = i['title']\n",
    "    dataPoint = i['paragraphs'][0]\n",
    "    # dict_keys(['qas', 'sent_list', 'context', 'sent_starts'])\n",
    "    qaList = dataPoint['qas']\n",
    "    context = dataPoint['context']\n",
    "    # print(title)\n",
    "    for qNo in range(len(qaList)):\n",
    "        # print(qaList[qNo].keys())\n",
    "\n",
    "        outputTextLines.append(qaList[qNo]['question'])\n",
    "        # print(qaList[qNo]['question'])\n",
    "\n",
    "        answersPerQ = qaList[qNo]['answers']\n",
    "        for aNo in range(len(answersPerQ)):\n",
    "            # print(answersPerQ[aNo].keys())\n",
    "\n",
    "            outputTextLines.append(answersPerQ[aNo]['text'])\n",
    "            # print(answersPerQ[aNo]['text'])\n",
    "        \n",
    "        outputTextLines.append(\"\")\n",
    "        # print(\"\")\n",
    "\n",
    "outputText = '\\n'.join(outputTextLines)\n",
    "with open(\"out.txt\",\"w\") as fileobj:\n",
    "    fileobj.write(outputText)\n",
    "\n",
    "# ### creating pdf from the data\n",
    "\n",
    "# # Create a PDF object\n",
    "# pdf = PDF()\n",
    "# pdf.add_page()\n",
    "\n",
    "# # Add a title and text to the PDF\n",
    "# pdf.chapter_title(\"MedicalQueries\")\n",
    "# pdf.chapter_body(outputText)\n",
    "\n",
    "# # Save the PDF\n",
    "# pdf_filename = 'BhupendraJogiData.pdf'\n",
    "# pdf.output(pdf_filename)\n",
    "\n",
    "# print(f\"PDF file '{pdf_filename}' has been created.\")"
   ]
  },
  {
   "cell_type": "code",
   "execution_count": 3,
   "metadata": {},
   "outputs": [],
   "source": [
    "import torch"
   ]
  }
 ],
 "metadata": {
  "kernelspec": {
   "display_name": "coding",
   "language": "python",
   "name": "python3"
  },
  "language_info": {
   "codemirror_mode": {
    "name": "ipython",
    "version": 3
   },
   "file_extension": ".py",
   "mimetype": "text/x-python",
   "name": "python",
   "nbconvert_exporter": "python",
   "pygments_lexer": "ipython3",
   "version": "3.8.18"
  }
 },
 "nbformat": 4,
 "nbformat_minor": 2
}
